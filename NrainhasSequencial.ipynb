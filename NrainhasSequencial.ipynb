{
  "cells": [
    {
      "cell_type": "markdown",
      "metadata": {
        "id": "ZmE_eTT-7L_w"
      },
      "source": [
        "# **Projeto Final Sistemas Distribuidos**\n",
        "## Problema N-rainhas\n",
        "### - Posicionar as *N* rainhas no tabuleiro sem que uma elimine a outra, ou seja, as peças não podem estar na mesma linha, coluna ou diagonal.\n",
        "\n",
        "\n",
        "## Jonathan Marques Christofoleti - RA:2266415\n",
        "## Igor de Oliveira Raphael - RA:2268230\n",
        "## Hallan Fernandes de Melo - RA:2312085\n",
        "## Messias Xavier Magalhães - RA:2266490"
      ]
    },
    {
      "cell_type": "code",
      "execution_count": 1,
      "metadata": {
        "id": "AvxpFkgeoH7O"
      },
      "outputs": [],
      "source": [
        "import time"
      ]
    },
    {
      "cell_type": "code",
      "execution_count": 2,
      "metadata": {
        "id": "aS4Qhiv6nvRD"
      },
      "outputs": [],
      "source": [
        "def print_solution(board, n):\n",
        "    # Itera sobre cada linha do tabuleiro\n",
        "    for row in range(n):\n",
        "        line = \"\"  # Inicializa uma string vazia para representar a linha\n",
        "        # Itera sobre cada coluna da linha atual\n",
        "        for col in range(n):\n",
        "            # Se a posição atual no tabuleiro tiver uma rainha\n",
        "            if board[row] == col:\n",
        "                line += \"♕ \"  # Adiciona a rainha à linha\n",
        "            else:\n",
        "                line += \"□ \"  # Adiciona uma célula vazia à linha\n",
        "        print(line)  # Imprime a linha formatada\n",
        "    print(\"\\n\")  # Imprime uma linha em branco para separar as soluções"
      ]
    },
    {
      "cell_type": "code",
      "execution_count": 3,
      "metadata": {
        "id": "WDbZtwcVnxTm"
      },
      "outputs": [],
      "source": [
        "def is_safe(board, row, col, n):\n",
        "    # Verifica se a posição (row, col) é segura para colocar uma rainha\n",
        "    for i in range(row):\n",
        "        # Verifica se a coluna já tem uma rainha ou se está na mesma diagonal\n",
        "        if board[i] == col or \\\n",
        "           board[i] - i == col - row or \\\n",
        "           board[i] + i == col + row:\n",
        "            return False  # Não é seguro colocar a rainha aqui\n",
        "    return True  # É seguro colocar a rainha aqui"
      ]
    },
    {
      "cell_type": "code",
      "execution_count": 4,
      "metadata": {
        "id": "Bq64Kk1nnzyv"
      },
      "outputs": [],
      "source": [
        "def solve_n_queens(n):\n",
        "    def solve(row, board):\n",
        "        # Se todas as linhas estiverem preenchidas, adiciona a solução à lista\n",
        "        if row == n:\n",
        "            solutions.append(board[:])  # Copia o estado atual do tabuleiro\n",
        "            return\n",
        "        # Tenta colocar uma rainha em cada coluna da linha atual\n",
        "        for col in range(n):\n",
        "            if is_safe(board, row, col, n):  # Verifica se é seguro colocar aqui\n",
        "                board[row] = col  # Coloca a rainha na coluna atual\n",
        "                solve(row + 1, board)  # Avança para a próxima linha\n",
        "                board[row] = -1  # Remove a rainha (backtracking)\n",
        "\n",
        "    solutions = []  # Lista para armazenar todas as soluções possíveis\n",
        "    board = [-1] * n  # Inicializa o tabuleiro com -1, indicando células vazias\n",
        "    solve(0, board)  # Começa a resolver o problema a partir da primeira linha\n",
        "    return solutions  # Retorna todas as soluções encontradas"
      ]
    },
    {
      "cell_type": "code",
      "execution_count": 5,
      "metadata": {
        "colab": {
          "base_uri": "https://localhost:8080/"
        },
        "id": "kPO1OcSQjnn9",
        "outputId": "fdf4cf3f-40a8-4fbc-bf00-76dd5db033ea"
      },
      "outputs": [],
      "source": [
        "#Lista do numero de rainhas que será executado\n",
        "n_Queens = [4,7,8,10,12,13,14,15,16]\n",
        "\n",
        "#Lista para armazenar todas as informações (numero de rainhas, tempo de execução, numero de soluções e as soluções) \n",
        "results = []\n",
        "\n",
        "#Percorre todas as rainhas da lista acima, executando o algoritimo para cada numero de rainhas diferentes\n",
        "for queen in n_Queens:\n",
        "    \n",
        "    #Começa a calcular o tempo de execução\n",
        "    start_time = time.time()\n",
        "\n",
        "    #Solução\n",
        "    solucoes = solve_n_queens(queen)\n",
        "    \n",
        "    #Termina a contagem do tempo\n",
        "    end_time = time.time()\n",
        "\n",
        "    execution_time = end_time - start_time\n",
        "\n",
        "    results.append({\n",
        "        \"n\": queen,\n",
        "        \"tempo_de_execucao\": execution_time, # tempo de execução\n",
        "        \"numero_de_solucoes\": len(solucoes), # numero total de soluções\n",
        "        \"solucoes\": solucoes  # armazena as soluções em uma lista\n",
        "    })"
      ]
    },
    {
      "cell_type": "code",
      "execution_count": 6,
      "metadata": {},
      "outputs": [
        {
          "name": "stdout",
          "output_type": "stream",
          "text": [
            "Tempo de execução para 4 rainhas: 0.00000 segundos\n",
            "Número de soluções para 4 rainhas: 2\n",
            "\n",
            "Tempo de execução para 7 rainhas: 0.00100 segundos\n",
            "Número de soluções para 7 rainhas: 40\n",
            "\n",
            "Tempo de execução para 8 rainhas: 0.00800 segundos\n",
            "Número de soluções para 8 rainhas: 92\n",
            "\n",
            "Tempo de execução para 10 rainhas: 0.18104 segundos\n",
            "Número de soluções para 10 rainhas: 724\n",
            "\n",
            "Tempo de execução para 12 rainhas: 5.96934 segundos\n",
            "Número de soluções para 12 rainhas: 14200\n",
            "\n",
            "Tempo de execução para 13 rainhas: 37.22837 segundos\n",
            "Número de soluções para 13 rainhas: 73712\n",
            "\n",
            "Tempo de execução para 14 rainhas: 240.07498 segundos\n",
            "Número de soluções para 14 rainhas: 365596\n",
            "\n",
            "Tempo de execução para 15 rainhas: 1689.68492 segundos\n",
            "Número de soluções para 15 rainhas: 2279184\n",
            "\n",
            "Tempo de execução para 16 rainhas: 12481.79910 segundos\n",
            "Número de soluções para 16 rainhas: 14772512\n",
            "\n"
          ]
        }
      ],
      "source": [
        "# Exibe o tempo de execução e o numero total de soluções \n",
        "for result in results:\n",
        "    print(f\"Tempo de execução para {result['n']} rainhas: {result['tempo_de_execucao']:.5f} segundos\")\n",
        "    print(f\"Número de soluções para {result['n']} rainhas: {result['numero_de_solucoes']}\\n\")"
      ]
    },
    {
      "cell_type": "code",
      "execution_count": null,
      "metadata": {},
      "outputs": [],
      "source": [
        "# Exibe as soluções em um tabuleiro\n",
        "for result in results:      \n",
        "    print(f\"Soluções para {result['n']} rainhas\")\n",
        "    for solucao in result[\"solucoes\"]:\n",
        "        if result[\"n\"] <= 12:\n",
        "            print_solution(solucao, result[\"n\"])  # imprime cada solução utilizando a função print_solution\n",
        "    print()"
      ]
    }
  ],
  "metadata": {
    "colab": {
      "provenance": []
    },
    "kernelspec": {
      "display_name": "Python 3",
      "name": "python3"
    },
    "language_info": {
      "codemirror_mode": {
        "name": "ipython",
        "version": 3
      },
      "file_extension": ".py",
      "mimetype": "text/x-python",
      "name": "python",
      "nbconvert_exporter": "python",
      "pygments_lexer": "ipython3",
      "version": "3.11.9"
    }
  },
  "nbformat": 4,
  "nbformat_minor": 0
}
