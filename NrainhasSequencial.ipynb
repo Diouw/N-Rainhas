{
  "cells": [
    {
      "cell_type": "markdown",
      "metadata": {
        "id": "ZmE_eTT-7L_w"
      },
      "source": [
        "# **Projeto Final Sistemas Distribuidos**\n",
        "## Problema N-rainhas\n",
        "### - Posicionar as *N* rainhas no tabuleiro sem que uma elimine a outra, ou seja, as peças não podem estar na mesma linha, coluna ou diagonal.\n",
        "\n",
        "\n",
        "## Jonathan Marques Christofoleti - RA:2266415\n",
        "## Igor de Oliveira Raphael - RA:2268230\n",
        "## Hallan Fernandes de Melo - RA:2312085\n",
        "## Messias Xavier Magalhães - RA:2266490"
      ]
    },
    {
      "cell_type": "code",
      "execution_count": 8,
      "metadata": {
        "id": "AvxpFkgeoH7O"
      },
      "outputs": [],
      "source": [
        "import time"
      ]
    },
    {
      "cell_type": "code",
      "execution_count": 9,
      "metadata": {
        "id": "aS4Qhiv6nvRD"
      },
      "outputs": [],
      "source": [
        "def print_solution(board, n):\n",
        "    for row in range(n):\n",
        "        line = \"\"\n",
        "        for col in range(n):\n",
        "            if board[row] == col:\n",
        "                line += \"♕ \"\n",
        "            else:\n",
        "                line += \"□ \"\n",
        "        print(line)\n",
        "    print(\"\\n\")"
      ]
    },
    {
      "cell_type": "code",
      "execution_count": 10,
      "metadata": {
        "id": "WDbZtwcVnxTm"
      },
      "outputs": [],
      "source": [
        "def is_safe(board, row, col, n):\n",
        "    for i in range(row):\n",
        "        if board[i] == col or \\\n",
        "           board[i] - i == col - row or \\\n",
        "           board[i] + i == col + row:\n",
        "            return False\n",
        "    return True"
      ]
    },
    {
      "cell_type": "code",
      "execution_count": 11,
      "metadata": {
        "id": "Bq64Kk1nnzyv"
      },
      "outputs": [],
      "source": [
        "def solve_n_queens(n):\n",
        "    def solve(row, board):\n",
        "        if row == n:\n",
        "            solutions.append(board[:])\n",
        "            return\n",
        "        for col in range(n):\n",
        "            if is_safe(board, row, col, n):\n",
        "                board[row] = col\n",
        "                solve(row + 1, board)\n",
        "                board[row] = -1\n",
        "\n",
        "    solutions = []\n",
        "    board = [-1] * n\n",
        "    solve(0, board)\n",
        "    return solutions"
      ]
    },
    {
      "cell_type": "code",
      "execution_count": 12,
      "metadata": {
        "colab": {
          "base_uri": "https://localhost:8080/"
        },
        "id": "kPO1OcSQjnn9",
        "outputId": "fdf4cf3f-40a8-4fbc-bf00-76dd5db033ea"
      },
      "outputs": [],
      "source": [
        "#Lista do numero de rainhas que será executado\n",
        "n_Queens = [\n",
        "    4,\n",
        "    7,\n",
        "    8,\n",
        "    10,\n",
        "    12,\n",
        "    13,\n",
        "    14\n",
        "]\n",
        "\n",
        "#Lista para armazenar todas as informações (numero de rainhas, tempo de execução, numero de soluções e as soluções) \n",
        "results = []\n",
        "\n",
        "#Percorre todas as rainhas da lista acima, executando o algoritimo para cada numero de rainhas diferentes\n",
        "for queen in n_Queens:\n",
        "    \n",
        "    #Começa a calcular o tempo de execução\n",
        "    start_time = time.time()\n",
        "\n",
        "    #Solução\n",
        "    solucoes = solve_n_queens(queen)\n",
        "    \n",
        "    #Termina a contagem do tempo\n",
        "    end_time = time.time()\n",
        "\n",
        "    execution_time = end_time - start_time\n",
        "\n",
        "    results.append({\n",
        "        \"n\": queen,\n",
        "        \"tempo_de_execucao\": execution_time, # tempo de execução\n",
        "        \"numero_de_solucoes\": len(solucoes), # numero total de soluções\n",
        "        \"solucoes\": solucoes  # armazena as soluções em uma lista\n",
        "    })"
      ]
    },
    {
      "cell_type": "code",
      "execution_count": 13,
      "metadata": {},
      "outputs": [
        {
          "name": "stdout",
          "output_type": "stream",
          "text": [
            "Tempo de execução para 4 rainhas: 0.00000 segundos\n",
            "Número de soluções para 4 rainhas: 2\n",
            "\n",
            "Tempo de execução para 7 rainhas: 0.00200 segundos\n",
            "Número de soluções para 7 rainhas: 40\n",
            "\n",
            "Tempo de execução para 8 rainhas: 0.01100 segundos\n",
            "Número de soluções para 8 rainhas: 92\n",
            "\n",
            "Tempo de execução para 10 rainhas: 0.21506 segundos\n",
            "Número de soluções para 10 rainhas: 724\n",
            "\n",
            "Tempo de execução para 12 rainhas: 6.24891 segundos\n",
            "Número de soluções para 12 rainhas: 14200\n",
            "\n",
            "Tempo de execução para 13 rainhas: 38.25852 segundos\n",
            "Número de soluções para 13 rainhas: 73712\n",
            "\n",
            "Tempo de execução para 14 rainhas: 253.89504 segundos\n",
            "Número de soluções para 14 rainhas: 365596\n",
            "\n"
          ]
        }
      ],
      "source": [
        "# Exibe o tempo de execução e o numero total de soluções \n",
        "for result in results:\n",
        "    print(f\"Tempo de execução para {result['n']} rainhas: {result['tempo_de_execucao']:.5f} segundos\")\n",
        "    print(f\"Número de soluções para {result['n']} rainhas: {result['numero_de_solucoes']}\\n\")"
      ]
    },
    {
      "cell_type": "code",
      "execution_count": 1,
      "metadata": {},
      "outputs": [
        {
          "ename": "NameError",
          "evalue": "name 'results' is not defined",
          "output_type": "error",
          "traceback": [
            "\u001b[1;31m---------------------------------------------------------------------------\u001b[0m",
            "\u001b[1;31mNameError\u001b[0m                                 Traceback (most recent call last)",
            "Cell \u001b[1;32mIn[1], line 2\u001b[0m\n\u001b[0;32m      1\u001b[0m \u001b[38;5;66;03m# Exibe as soluções em um tabuleiro\u001b[39;00m\n\u001b[1;32m----> 2\u001b[0m \u001b[38;5;28;01mfor\u001b[39;00m result \u001b[38;5;129;01min\u001b[39;00m \u001b[43mresults\u001b[49m:      \n\u001b[0;32m      3\u001b[0m     \u001b[38;5;28mprint\u001b[39m(\u001b[38;5;124mf\u001b[39m\u001b[38;5;124m\"\u001b[39m\u001b[38;5;124mSoluções para \u001b[39m\u001b[38;5;132;01m{\u001b[39;00mresult[\u001b[38;5;124m'\u001b[39m\u001b[38;5;124mn\u001b[39m\u001b[38;5;124m'\u001b[39m]\u001b[38;5;132;01m}\u001b[39;00m\u001b[38;5;124m rainhas\u001b[39m\u001b[38;5;124m\"\u001b[39m)\n\u001b[0;32m      4\u001b[0m     \u001b[38;5;28;01mfor\u001b[39;00m solucao \u001b[38;5;129;01min\u001b[39;00m result[\u001b[38;5;124m\"\u001b[39m\u001b[38;5;124msolucoes\u001b[39m\u001b[38;5;124m\"\u001b[39m]:\n",
            "\u001b[1;31mNameError\u001b[0m: name 'results' is not defined"
          ]
        }
      ],
      "source": [
        "# Exibe as soluções em um tabuleiro\n",
        "for result in results:      \n",
        "    print(f\"Soluções para {result['n']} rainhas\")\n",
        "    for solucao in result[\"solucoes\"]:\n",
        "        print_solution(solucao, result[\"n\"])  # imprime cada solução utilizando a função print_solution\n",
        "    print()"
      ]
    }
  ],
  "metadata": {
    "colab": {
      "provenance": []
    },
    "kernelspec": {
      "display_name": "Python 3",
      "name": "python3"
    },
    "language_info": {
      "codemirror_mode": {
        "name": "ipython",
        "version": 3
      },
      "file_extension": ".py",
      "mimetype": "text/x-python",
      "name": "python",
      "nbconvert_exporter": "python",
      "pygments_lexer": "ipython3",
      "version": "3.11.9"
    }
  },
  "nbformat": 4,
  "nbformat_minor": 0
}
