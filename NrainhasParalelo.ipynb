{
  "cells": [
    {
      "cell_type": "markdown",
      "metadata": {
        "id": "ZmE_eTT-7L_w"
      },
      "source": [
        "# **Projeto Algoritmos Genéticos**\n",
        "## Problema N-rainhas\n",
        "### - Posicionar as *N* rainhas no tabuleiro sem que uma elimine a outra, ou seja, as peças não podem estar na mesma linha, coluna ou diagonal.\n",
        "### - Especificações:\n",
        "\n",
        "\n",
        "*   Quantidade de rainhas\n",
        "*   Taxas: Mutação e Cruzamento\n",
        "*   Tamanhos: população, eletismo e seleção\n",
        "*   Critério de parada: Número de iterações e ou solução ótima\n",
        "\n",
        "## Jonathan Marques Christofoleti - RA:2266415\n",
        "## Igor de Oliveira Raphael - RA:2268230\n",
        "\n",
        "\n"
      ]
    },
    {
      "cell_type": "code",
      "execution_count": 1,
      "metadata": {},
      "outputs": [],
      "source": [
        "import time\n",
        "import multiprocessing\n",
        "\n",
        "def print_solution(board, n):\n",
        "    for row in range(n):\n",
        "        line = \"\"\n",
        "        for col in range(n):\n",
        "            if board[row] == col:\n",
        "                line += \"♕ \"\n",
        "            else:\n",
        "                line += \"□ \"\n",
        "        print(line)\n",
        "    print(\"\\n\")\n",
        "\n",
        "def is_safe(board, row, col, n):\n",
        "    for i in range(row):\n",
        "        if board[i] == col or \\\n",
        "           board[i] - i == col - row or \\\n",
        "           board[i] + i == col + row:\n",
        "            return False\n",
        "    return True\n",
        "\n",
        "def solve_n_queens(n):\n",
        "    def solve(row, board):\n",
        "        if row == n:\n",
        "            solutions.append(board[:])\n",
        "            return\n",
        "        for col in range(n):\n",
        "            if is_safe(board, row, col, n):\n",
        "                board[row] = col\n",
        "                solve(row + 1, board)\n",
        "                board[row] = -1\n",
        "\n",
        "    solutions = []\n",
        "    board = [-1] * n\n",
        "    solve(0, board)\n",
        "    return solutions\n",
        "\n",
        "def worker(queen):\n",
        "    start_time = time.time()\n",
        "    solucoes = solve_n_queens(queen)\n",
        "    end_time = time.time()\n",
        "    execution_time = end_time - start_time\n",
        "    return {\n",
        "        \"n\": queen,\n",
        "        \"tempo_de_execucao\": execution_time,\n",
        "        \"numero_de_solucoes\": len(solucoes),\n",
        "        \"solucoes\": solucoes\n",
        "    }\n",
        "n_Queens = [\n",
        "    4,\n",
        "    7,\n",
        "    8,\n",
        "    10,\n",
        "]\n",
        "\n",
        "with multiprocessing.Pool() as pool:\n",
        "    results = pool.map(worker, n_Queens)\n",
        "\n",
        "for result in results:\n",
        "    print(f\"Tempo de execução para {result['n']} rainhas: {result['tempo_de_execucao']:.5f} segundos\")\n",
        "    print(f\"Número de soluções para {result['n']} rainhas: {result['numero_de_solucoes']}\\n\")\n",
        "\n",
        "for result in results:\n",
        "    print(f\"Soluções para {result['n']} rainhas\")\n",
        "    for solucao in result[\"solucoes\"]:\n",
        "        print_solution(solucao, result[\"n\"])\n",
        "    print()"
      ]
    }
  ],
  "metadata": {
    "colab": {
      "provenance": []
    },
    "kernelspec": {
      "display_name": "Python 3",
      "name": "python3"
    },
    "language_info": {
      "codemirror_mode": {
        "name": "ipython",
        "version": 3
      },
      "file_extension": ".py",
      "mimetype": "text/x-python",
      "name": "python",
      "nbconvert_exporter": "python",
      "pygments_lexer": "ipython3",
      "version": "3.11.9"
    }
  },
  "nbformat": 4,
  "nbformat_minor": 0
}
