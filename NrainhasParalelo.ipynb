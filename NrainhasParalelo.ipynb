{
  "cells": [
    {
      "cell_type": "markdown",
      "metadata": {
        "id": "ZmE_eTT-7L_w"
      },
      "source": [
        "# **Projeto Final Sistemas Distribuidos**\n",
        "## Problema N-rainhas\n",
        "### - Posicionar as *N* rainhas no tabuleiro sem que uma elimine a outra, ou seja, as peças não podem estar na mesma linha, coluna ou diagonal.\n",
        "\n",
        "\n",
        "## Jonathan Marques Christofoleti - RA:2266415\n",
        "## Igor de Oliveira Raphael - RA:2268230\n",
        "## Hallan Fernandes de Melo - RA:\n",
        "## Messias Xavier Magalhães - RA:2266490\n"
      ]
    },
    {
      "cell_type": "code",
      "execution_count": 6,
      "metadata": {},
      "outputs": [
        {
          "name": "stdout",
          "output_type": "stream",
          "text": [
            "Tempo de execução: 0.4961 segundos\n"
          ]
        },
        {
          "ename": "FileNotFoundError",
          "evalue": "[WinError 2] O sistema não pode encontrar o arquivo especificado",
          "output_type": "error",
          "traceback": [
            "\u001b[1;31m---------------------------------------------------------------------------\u001b[0m",
            "\u001b[1;31mAttributeError\u001b[0m                            Traceback (most recent call last)",
            "File \u001b[1;32mC:\\Program Files\\WindowsApps\\PythonSoftwareFoundation.Python.3.11_3.11.2544.0_x64__qbz5n2kfra8p0\\Lib\\multiprocessing\\managers.py:814\u001b[0m, in \u001b[0;36mBaseProxy._callmethod\u001b[1;34m(self, methodname, args, kwds)\u001b[0m\n\u001b[0;32m    813\u001b[0m \u001b[38;5;28;01mtry\u001b[39;00m:\n\u001b[1;32m--> 814\u001b[0m     conn \u001b[38;5;241m=\u001b[39m \u001b[38;5;28;43mself\u001b[39;49m\u001b[38;5;241;43m.\u001b[39;49m\u001b[43m_tls\u001b[49m\u001b[38;5;241;43m.\u001b[39;49m\u001b[43mconnection\u001b[49m\n\u001b[0;32m    815\u001b[0m \u001b[38;5;28;01mexcept\u001b[39;00m \u001b[38;5;167;01mAttributeError\u001b[39;00m:\n",
            "\u001b[1;31mAttributeError\u001b[0m: 'ForkAwareLocal' object has no attribute 'connection'",
            "\nDuring handling of the above exception, another exception occurred:\n",
            "\u001b[1;31mFileNotFoundError\u001b[0m                         Traceback (most recent call last)",
            "Cell \u001b[1;32mIn[6], line 56\u001b[0m\n\u001b[0;32m     54\u001b[0m execution_time \u001b[38;5;241m=\u001b[39m end_time \u001b[38;5;241m-\u001b[39m start_time\n\u001b[0;32m     55\u001b[0m \u001b[38;5;28mprint\u001b[39m(\u001b[38;5;124mf\u001b[39m\u001b[38;5;124m\"\u001b[39m\u001b[38;5;124mTempo de execução: \u001b[39m\u001b[38;5;132;01m{\u001b[39;00mexecution_time\u001b[38;5;132;01m:\u001b[39;00m\u001b[38;5;124m.4f\u001b[39m\u001b[38;5;132;01m}\u001b[39;00m\u001b[38;5;124m segundos\u001b[39m\u001b[38;5;124m\"\u001b[39m)\n\u001b[1;32m---> 56\u001b[0m \u001b[38;5;28mprint\u001b[39m(\u001b[38;5;124mf\u001b[39m\u001b[38;5;124m\"\u001b[39m\u001b[38;5;124mNúmero de soluções para \u001b[39m\u001b[38;5;132;01m{\u001b[39;00mn\u001b[38;5;132;01m}\u001b[39;00m\u001b[38;5;124m rainhas: \u001b[39m\u001b[38;5;132;01m{\u001b[39;00m\u001b[38;5;28;43mlen\u001b[39;49m\u001b[43m(\u001b[49m\u001b[43msolucoes\u001b[49m\u001b[43m)\u001b[49m\u001b[38;5;132;01m}\u001b[39;00m\u001b[38;5;130;01m\\n\u001b[39;00m\u001b[38;5;124m\"\u001b[39m)\n\u001b[0;32m     58\u001b[0m \u001b[38;5;28;01mfor\u001b[39;00m sol \u001b[38;5;129;01min\u001b[39;00m solucoes:\n\u001b[0;32m     59\u001b[0m     print_solution(sol, n)\n",
            "File \u001b[1;32m<string>:2\u001b[0m, in \u001b[0;36m__len__\u001b[1;34m(self, *args, **kwds)\u001b[0m\n",
            "File \u001b[1;32mC:\\Program Files\\WindowsApps\\PythonSoftwareFoundation.Python.3.11_3.11.2544.0_x64__qbz5n2kfra8p0\\Lib\\multiprocessing\\managers.py:818\u001b[0m, in \u001b[0;36mBaseProxy._callmethod\u001b[1;34m(self, methodname, args, kwds)\u001b[0m\n\u001b[0;32m    815\u001b[0m \u001b[38;5;28;01mexcept\u001b[39;00m \u001b[38;5;167;01mAttributeError\u001b[39;00m:\n\u001b[0;32m    816\u001b[0m     util\u001b[38;5;241m.\u001b[39mdebug(\u001b[38;5;124m'\u001b[39m\u001b[38;5;124mthread \u001b[39m\u001b[38;5;132;01m%r\u001b[39;00m\u001b[38;5;124m does not own a connection\u001b[39m\u001b[38;5;124m'\u001b[39m,\n\u001b[0;32m    817\u001b[0m                threading\u001b[38;5;241m.\u001b[39mcurrent_thread()\u001b[38;5;241m.\u001b[39mname)\n\u001b[1;32m--> 818\u001b[0m     \u001b[38;5;28;43mself\u001b[39;49m\u001b[38;5;241;43m.\u001b[39;49m\u001b[43m_connect\u001b[49m\u001b[43m(\u001b[49m\u001b[43m)\u001b[49m\n\u001b[0;32m    819\u001b[0m     conn \u001b[38;5;241m=\u001b[39m \u001b[38;5;28mself\u001b[39m\u001b[38;5;241m.\u001b[39m_tls\u001b[38;5;241m.\u001b[39mconnection\n\u001b[0;32m    821\u001b[0m conn\u001b[38;5;241m.\u001b[39msend((\u001b[38;5;28mself\u001b[39m\u001b[38;5;241m.\u001b[39m_id, methodname, args, kwds))\n",
            "File \u001b[1;32mC:\\Program Files\\WindowsApps\\PythonSoftwareFoundation.Python.3.11_3.11.2544.0_x64__qbz5n2kfra8p0\\Lib\\multiprocessing\\managers.py:805\u001b[0m, in \u001b[0;36mBaseProxy._connect\u001b[1;34m(self)\u001b[0m\n\u001b[0;32m    803\u001b[0m \u001b[38;5;28;01mif\u001b[39;00m threading\u001b[38;5;241m.\u001b[39mcurrent_thread()\u001b[38;5;241m.\u001b[39mname \u001b[38;5;241m!=\u001b[39m \u001b[38;5;124m'\u001b[39m\u001b[38;5;124mMainThread\u001b[39m\u001b[38;5;124m'\u001b[39m:\n\u001b[0;32m    804\u001b[0m     name \u001b[38;5;241m+\u001b[39m\u001b[38;5;241m=\u001b[39m \u001b[38;5;124m'\u001b[39m\u001b[38;5;124m|\u001b[39m\u001b[38;5;124m'\u001b[39m \u001b[38;5;241m+\u001b[39m threading\u001b[38;5;241m.\u001b[39mcurrent_thread()\u001b[38;5;241m.\u001b[39mname\n\u001b[1;32m--> 805\u001b[0m conn \u001b[38;5;241m=\u001b[39m \u001b[38;5;28;43mself\u001b[39;49m\u001b[38;5;241;43m.\u001b[39;49m\u001b[43m_Client\u001b[49m\u001b[43m(\u001b[49m\u001b[38;5;28;43mself\u001b[39;49m\u001b[38;5;241;43m.\u001b[39;49m\u001b[43m_token\u001b[49m\u001b[38;5;241;43m.\u001b[39;49m\u001b[43maddress\u001b[49m\u001b[43m,\u001b[49m\u001b[43m \u001b[49m\u001b[43mauthkey\u001b[49m\u001b[38;5;241;43m=\u001b[39;49m\u001b[38;5;28;43mself\u001b[39;49m\u001b[38;5;241;43m.\u001b[39;49m\u001b[43m_authkey\u001b[49m\u001b[43m)\u001b[49m\n\u001b[0;32m    806\u001b[0m dispatch(conn, \u001b[38;5;28;01mNone\u001b[39;00m, \u001b[38;5;124m'\u001b[39m\u001b[38;5;124maccept_connection\u001b[39m\u001b[38;5;124m'\u001b[39m, (name,))\n\u001b[0;32m    807\u001b[0m \u001b[38;5;28mself\u001b[39m\u001b[38;5;241m.\u001b[39m_tls\u001b[38;5;241m.\u001b[39mconnection \u001b[38;5;241m=\u001b[39m conn\n",
            "File \u001b[1;32mC:\\Program Files\\WindowsApps\\PythonSoftwareFoundation.Python.3.11_3.11.2544.0_x64__qbz5n2kfra8p0\\Lib\\multiprocessing\\connection.py:517\u001b[0m, in \u001b[0;36mClient\u001b[1;34m(address, family, authkey)\u001b[0m\n\u001b[0;32m    515\u001b[0m _validate_family(family)\n\u001b[0;32m    516\u001b[0m \u001b[38;5;28;01mif\u001b[39;00m family \u001b[38;5;241m==\u001b[39m \u001b[38;5;124m'\u001b[39m\u001b[38;5;124mAF_PIPE\u001b[39m\u001b[38;5;124m'\u001b[39m:\n\u001b[1;32m--> 517\u001b[0m     c \u001b[38;5;241m=\u001b[39m \u001b[43mPipeClient\u001b[49m\u001b[43m(\u001b[49m\u001b[43maddress\u001b[49m\u001b[43m)\u001b[49m\n\u001b[0;32m    518\u001b[0m \u001b[38;5;28;01melse\u001b[39;00m:\n\u001b[0;32m    519\u001b[0m     c \u001b[38;5;241m=\u001b[39m SocketClient(address)\n",
            "File \u001b[1;32mC:\\Program Files\\WindowsApps\\PythonSoftwareFoundation.Python.3.11_3.11.2544.0_x64__qbz5n2kfra8p0\\Lib\\multiprocessing\\connection.py:719\u001b[0m, in \u001b[0;36mPipeClient\u001b[1;34m(address)\u001b[0m\n\u001b[0;32m    717\u001b[0m \u001b[38;5;28;01mwhile\u001b[39;00m \u001b[38;5;241m1\u001b[39m:\n\u001b[0;32m    718\u001b[0m     \u001b[38;5;28;01mtry\u001b[39;00m:\n\u001b[1;32m--> 719\u001b[0m         _winapi\u001b[38;5;241m.\u001b[39mWaitNamedPipe(address, \u001b[38;5;241m1000\u001b[39m)\n\u001b[0;32m    720\u001b[0m         h \u001b[38;5;241m=\u001b[39m _winapi\u001b[38;5;241m.\u001b[39mCreateFile(\n\u001b[0;32m    721\u001b[0m             address, _winapi\u001b[38;5;241m.\u001b[39mGENERIC_READ \u001b[38;5;241m|\u001b[39m _winapi\u001b[38;5;241m.\u001b[39mGENERIC_WRITE,\n\u001b[0;32m    722\u001b[0m             \u001b[38;5;241m0\u001b[39m, _winapi\u001b[38;5;241m.\u001b[39mNULL, _winapi\u001b[38;5;241m.\u001b[39mOPEN_EXISTING,\n\u001b[0;32m    723\u001b[0m             _winapi\u001b[38;5;241m.\u001b[39mFILE_FLAG_OVERLAPPED, _winapi\u001b[38;5;241m.\u001b[39mNULL\n\u001b[0;32m    724\u001b[0m             )\n\u001b[0;32m    725\u001b[0m     \u001b[38;5;28;01mexcept\u001b[39;00m \u001b[38;5;167;01mOSError\u001b[39;00m \u001b[38;5;28;01mas\u001b[39;00m e:\n",
            "\u001b[1;31mFileNotFoundError\u001b[0m: [WinError 2] O sistema não pode encontrar o arquivo especificado"
          ]
        }
      ],
      "source": [
        "import multiprocessing\n",
        "import time\n",
        "\n",
        "def print_solution(board, n):\n",
        "    for row in range(n):\n",
        "        line = \"\"\n",
        "        for col in range(n):\n",
        "            if board[row] == col:\n",
        "                line += \"Q \"\n",
        "            else:\n",
        "                line += \". \"\n",
        "        print(line)\n",
        "    print(\"\\n\")\n",
        "\n",
        "def is_safe(board, row, col, n):\n",
        "    for i in range(row):\n",
        "        if board[i] == col or \\\n",
        "           board[i] - i == col - row or \\\n",
        "           board[i] + i == col + row:\n",
        "            return False\n",
        "    return True\n",
        "\n",
        "def solve_n_queens_partial(args):\n",
        "    row, board, n, solutions = args\n",
        "    if row == n:\n",
        "        solutions.append(board[:])\n",
        "        return\n",
        "    for col in range(n):\n",
        "        if is_safe(board, row, col, n):\n",
        "            board[row] = col\n",
        "            solve_n_queens_partial((row + 1, board, n, solutions))\n",
        "            board[row] = -1\n",
        "\n",
        "def solve_n_queens_parallel(n):\n",
        "    with multiprocessing.Manager() as manager:\n",
        "        solutions = manager.list()\n",
        "        processes = []\n",
        "        for col in range(n):\n",
        "            board = [-1] * n\n",
        "            board[0] = col\n",
        "            p = multiprocessing.Process(target=solve_n_queens_partial, args=((1, board, n, solutions),))\n",
        "            processes.append(p)\n",
        "            p.start()\n",
        "        for p in processes:\n",
        "            p.join()\n",
        "    return solutions\n",
        "\n",
        "n = 10  # Exemplo para 10 rainhas\n",
        "\n",
        "start_time = time.time()\n",
        "solucoes = solve_n_queens_parallel(n)\n",
        "end_time = time.time()\n",
        "\n",
        "execution_time = end_time - start_time\n",
        "print(f\"Tempo de execução: {execution_time:.4f} segundos\")\n",
        "print(f\"Número de soluções para {n} rainhas: {len(solucoes)}\\n\")\n",
        "\n",
        "for sol in solucoes:\n",
        "    print_solution(sol, n)"
      ]
    }
  ],
  "metadata": {
    "colab": {
      "provenance": []
    },
    "kernelspec": {
      "display_name": "Python 3",
      "name": "python3"
    },
    "language_info": {
      "codemirror_mode": {
        "name": "ipython",
        "version": 3
      },
      "file_extension": ".py",
      "mimetype": "text/x-python",
      "name": "python",
      "nbconvert_exporter": "python",
      "pygments_lexer": "ipython3",
      "version": "3.11.9"
    }
  },
  "nbformat": 4,
  "nbformat_minor": 0
}
