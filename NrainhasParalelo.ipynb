{
  "cells": [
    {
      "cell_type": "markdown",
      "metadata": {
        "id": "ZmE_eTT-7L_w"
      },
      "source": [
        "# **Projeto Final Sistemas Distribuidos**\n",
        "## Problema N-rainhas\n",
        "### - Posicionar as *N* rainhas no tabuleiro sem que uma elimine a outra, ou seja, as peças não podem estar na mesma linha, coluna ou diagonal.\n",
        "\n",
        "\n",
        "## Jonathan Marques Christofoleti - RA:2266415\n",
        "## Igor de Oliveira Raphael - RA:2268230\n",
        "## Hallan Fernandes de Melo - RA:\n",
        "## Messias Xavier Magalhães - RA:2266490\n"
      ]
    },
    {
      "cell_type": "code",
      "execution_count": 3,
      "metadata": {},
      "outputs": [
        {
          "name": "stdout",
          "output_type": "stream",
          "text": [
            "Tempo de execução: 0.4540 segundos\n",
            "Número de soluções para 10 rainhas: 0\n",
            "\n"
          ]
        }
      ],
      "source": [
        "import multiprocessing\n",
        "import time\n",
        "\n",
        "def print_solution(board, n):\n",
        "    for row in range(n):\n",
        "        line = \"\"\n",
        "        for col in range(n):\n",
        "            if board[row] == col:\n",
        "                line += \"Q \"\n",
        "            else:\n",
        "                line += \". \"\n",
        "        print(line)\n",
        "    print(\"\\n\")\n",
        "\n",
        "def is_safe(board, row, col, n):\n",
        "    for i in range(row):\n",
        "        if board[i] == col or \\\n",
        "           board[i] - i == col - row or \\\n",
        "           board[i] + i == col + row:\n",
        "            return False\n",
        "    return True\n",
        "\n",
        "def solve_n_queens_partial(args):\n",
        "    row, board, n, solutions = args\n",
        "    if row == n:\n",
        "        solutions.append(board[:])\n",
        "        return\n",
        "    for col in range(n):\n",
        "        if is_safe(board, row, col, n):\n",
        "            board[row] = col\n",
        "            solve_n_queens_partial((row + 1, board, n, solutions))\n",
        "            board[row] = -1\n",
        "\n",
        "def solve_n_queens_parallel(n):\n",
        "    with multiprocessing.Manager() as manager:\n",
        "        solutions = manager.list()\n",
        "        processes = []\n",
        "        for col in range(n):\n",
        "            board = [-1] * n\n",
        "            board[0] = col\n",
        "            p = multiprocessing.Process(target=solve_n_queens_partial, args=((1, board, n, solutions),))\n",
        "            processes.append(p)\n",
        "            p.start()\n",
        "        for p in processes:\n",
        "            p.join()\n",
        "    return list(solutions)\n",
        "\n",
        "n = 10  # Exemplo para 10 rainhas\n",
        "\n",
        "start_time = time.time()\n",
        "solucoes = solve_n_queens_parallel(n)\n",
        "end_time = time.time()\n",
        "\n",
        "execution_time = end_time - start_time\n",
        "print(f\"Tempo de execução: {execution_time:.4f} segundos\")\n",
        "print(f\"Número de soluções para {n} rainhas: {len(solucoes)}\\n\")\n",
        "\n",
        "for sol in solucoes:\n",
        "    print_solution(sol, n)"
      ]
    }
  ],
  "metadata": {
    "colab": {
      "provenance": []
    },
    "kernelspec": {
      "display_name": "Python 3",
      "name": "python3"
    },
    "language_info": {
      "codemirror_mode": {
        "name": "ipython",
        "version": 3
      },
      "file_extension": ".py",
      "mimetype": "text/x-python",
      "name": "python",
      "nbconvert_exporter": "python",
      "pygments_lexer": "ipython3",
      "version": "3.11.9"
    }
  },
  "nbformat": 4,
  "nbformat_minor": 0
}
