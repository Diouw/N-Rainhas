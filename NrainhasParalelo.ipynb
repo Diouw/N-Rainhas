{
  "cells": [
    {
      "cell_type": "markdown",
      "metadata": {
        "id": "ZmE_eTT-7L_w"
      },
      "source": [
        "# **Projeto Final Sistemas Distribuidos**\n",
        "## Problema N-rainhas\n",
        "### - Posicionar as *N* rainhas no tabuleiro sem que uma elimine a outra, ou seja, as peças não podem estar na mesma linha, coluna ou diagonal.\n",
        "\n",
        "\n",
        "## Jonathan Marques Christofoleti - RA:2266415\n",
        "## Igor de Oliveira Raphael - RA:2268230\n",
        "## Hallan Fernandes de Melo - RA:2312085\n",
        "## Messias Xavier Magalhães - RA:2266490\n"
      ]
    },
    {
      "cell_type": "code",
      "execution_count": 1,
      "metadata": {},
      "outputs": [
        {
          "name": "stdout",
          "output_type": "stream",
          "text": [
            "Tempo de execução para 4 rainhas: 0.00000 segundos\n",
            "Número de soluções para 4 rainhas: 2\n",
            "\n",
            "Tempo de execução para 7 rainhas: 0.00200 segundos\n",
            "Número de soluções para 7 rainhas: 40\n",
            "\n",
            "Tempo de execução para 8 rainhas: 0.00800 segundos\n",
            "Número de soluções para 8 rainhas: 92\n",
            "\n",
            "Tempo de execução para 10 rainhas: 0.96226 segundos\n",
            "Número de soluções para 10 rainhas: 724\n",
            "\n",
            "Tempo de execução para 11 rainhas: 4.26126 segundos\n",
            "Número de soluções para 11 rainhas: 2680\n",
            "\n",
            "Tempo de execução para 12 rainhas: 19.36721 segundos\n",
            "Número de soluções para 12 rainhas: 14200\n",
            "\n",
            "Tempo de execução para 13 rainhas: 83.06200 segundos\n",
            "Número de soluções para 13 rainhas: 73712\n",
            "\n",
            "Tempo de execução para 14 rainhas: 296.50358 segundos\n",
            "Número de soluções para 14 rainhas: 365596\n",
            "\n"
          ]
        }
      ],
      "source": [
        "import time\n",
        "import threading\n",
        "\n",
        "def print_solution(board, n):\n",
        "    for row in range(n):\n",
        "        line = \"\"\n",
        "        for col in range(n):\n",
        "            if board[row] == col:\n",
        "                line += \"♕ \"\n",
        "            else:\n",
        "                line += \"□ \"\n",
        "        print(line)\n",
        "    print(\"\\n\")\n",
        "\n",
        "def is_safe(board, row, col, n):\n",
        "    for i in range(row):\n",
        "        if board[i] == col or \\\n",
        "           board[i] - i == col - row or \\\n",
        "           board[i] + i == col + row:\n",
        "            return False\n",
        "    return True\n",
        "\n",
        "def solve_n_queens(n):\n",
        "    def solve(row, board):\n",
        "        if row == n:\n",
        "            solutions.append(board[:])\n",
        "            return\n",
        "        for col in range(n):\n",
        "            if is_safe(board, row, col, n):\n",
        "                board[row] = col\n",
        "                solve(row + 1, board)\n",
        "                board[row] = -1\n",
        "\n",
        "    solutions = []\n",
        "    board = [-1] * n\n",
        "    solve(0, board)\n",
        "    return solutions\n",
        "\n",
        "n_Queens = [\n",
        "    4,\n",
        "    7,\n",
        "    8,\n",
        "    10,\n",
        "    11,\n",
        "    12,\n",
        "    13,\n",
        "    14\n",
        "]\n",
        "\n",
        "results = []\n",
        "\n",
        "def worker(queen):\n",
        "    start_time = time.time()\n",
        "    solucoes = solve_n_queens(queen)\n",
        "    end_time = time.time()\n",
        "    execution_time = end_time - start_time\n",
        "    results.append({\n",
        "        \"n\": queen,\n",
        "        \"tempo_de_execucao\": execution_time,\n",
        "        \"numero_de_solucoes\": len(solucoes),\n",
        "        \"solucoes\": solucoes\n",
        "    })\n",
        "\n",
        "threads = []\n",
        "for queen in n_Queens:\n",
        "    t = threading.Thread(target=worker, args=(queen,))\n",
        "    threads.append(t)\n",
        "    t.start()\n",
        "\n",
        "for t in threads:\n",
        "    t.join()\n",
        "\n",
        "for result in results:\n",
        "    print(f\"Tempo de execução para {result['n']} rainhas: {result['tempo_de_execucao']:.5f} segundos\")\n",
        "    print(f\"Número de soluções para {result['n']} rainhas: {result['numero_de_solucoes']}\\n\")"
      ]
    },
    {
      "cell_type": "code",
      "execution_count": null,
      "metadata": {},
      "outputs": [],
      "source": [
        "# Exibe as soluções em um tabuleiro\n",
        "for result in results:      \n",
        "    print(f\"Soluções para {result['n']} rainhas\")\n",
        "    for solucao in result[\"solucoes\"]:\n",
        "        print_solution(solucao, result[\"n\"])  # imprime cada solução utilizando a função print_solution\n",
        "    print()"
      ]
    }
  ],
  "metadata": {
    "colab": {
      "provenance": []
    },
    "kernelspec": {
      "display_name": "Python 3",
      "name": "python3"
    },
    "language_info": {
      "codemirror_mode": {
        "name": "ipython",
        "version": 3
      },
      "file_extension": ".py",
      "mimetype": "text/x-python",
      "name": "python",
      "nbconvert_exporter": "python",
      "pygments_lexer": "ipython3",
      "version": "3.11.9"
    }
  },
  "nbformat": 4,
  "nbformat_minor": 0
}
